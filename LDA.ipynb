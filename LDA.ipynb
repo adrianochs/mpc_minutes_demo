{
 "cells": [
  {
   "cell_type": "markdown",
   "metadata": {},
   "source": [
    "## Estimating LDA with Bank of England Minutes"
   ]
  },
  {
   "cell_type": "markdown",
   "metadata": {},
   "source": [
    "Here we show the code to re-create figures in http://bit.ly/2G7qoF3 using latent Dirichlet allocation.  First, we load and process MPC minutes exactly as in the information_retrieval notebook.  The reason for repeating the steps is that we treat a document as a single paragraph of the minutes rather than an entire minutes file.\n",
    "\n",
    "A similar notebook (with somewhat more extensive explanation) on state-of-the-union addresses can be found in the text-mining-tutorial repository."
   ]
  },
  {
   "cell_type": "code",
   "execution_count": 1,
   "metadata": {},
   "outputs": [],
   "source": [
    "import pandas as pd\n",
    "import numpy as np\n",
    "import topicmodels\n",
    "\n",
    "data = pd.read_table(\"mpc_minutes.txt\", encoding=\"utf-8\")\n",
    "\n",
    "docsobj = topicmodels.RawDocs(data.minutes, \"long\")\n",
    "docsobj.token_clean(1)\n",
    "docsobj.stopword_remove(\"tokens\")\n",
    "docsobj.stem()\n",
    "docsobj.stopword_remove(\"stems\")\n",
    "docsobj.term_rank(\"stems\")"
   ]
  },
  {
   "cell_type": "markdown",
   "metadata": {},
   "source": [
    "The first step in estimation is to initialize a model. We will pass docsobj.stems as the set of documents, and we also need to decide on a number of topics. Here we choose 30 topics."
   ]
  },
  {
   "cell_type": "code",
   "execution_count": 2,
   "metadata": {},
   "outputs": [],
   "source": [
    "ldaobj = topicmodels.LDA.LDAGibbs(docsobj.stems,30)"
   ]
  },
  {
   "cell_type": "markdown",
   "metadata": {},
   "source": [
    "There are three main parameters in LDA, the number of topics, and the two hyperparameters of the Dirichlet priors.  We follow the advice of Griffiths and Steyvers (2004) and sets the hyperparameter of the Dirichlet prior on topics to $200/V$, where $V$ is the number of unique vocabulary elements, and the hyperparameter of the Dirichlet prior on document-topic distributions to $50/K$, where $K$ is the number of topics."
   ]
  },
  {
   "cell_type": "code",
   "execution_count": 3,
   "metadata": {},
   "outputs": [
    {
     "name": "stdout",
     "output_type": "stream",
     "text": [
      "30\n",
      "1.6666666666666667\n",
      "0.03622532149972831\n"
     ]
    }
   ],
   "source": [
    "print(ldaobj.K) # number of topic, user defined.\n",
    "print(ldaobj.alpha) # hyperparameter for document-topic distribution, automatically defined\n",
    "print(ldaobj.beta) # hyperparameter for topics, automatically defined"
   ]
  },
  {
   "cell_type": "markdown",
   "metadata": {},
   "source": [
    "Now that we have initialized our topic model, we are ready to sample. To sample, we pass three parameters. The first is the number of iterations we want the chain to burn in before beginning to sample. The second is a thinning interval, the number of iterations to let the chain run between samples. Allowing for a thinning interval reduces autocorrelation between samples. The third is the number of samples to take. So, for example, if the user passes (2000,50,20) the following will happen. First, the chain will run for 2,000 iterations. Then 20 samples will be taken corresponding to the $\\{2050,2100\\ldots,2950,3000\\}$ iterations for a total of 3000 iterations overall."
   ]
  },
  {
   "cell_type": "code",
   "execution_count": 4,
   "metadata": {},
   "outputs": [
    {
     "name": "stdout",
     "output_type": "stream",
     "text": [
      "Iteration 10 of (collapsed) Gibbs sampling\n",
      "Iteration 20 of (collapsed) Gibbs sampling\n",
      "Iteration 30 of (collapsed) Gibbs sampling\n",
      "Iteration 40 of (collapsed) Gibbs sampling\n",
      "Iteration 50 of (collapsed) Gibbs sampling\n",
      "Iteration 60 of (collapsed) Gibbs sampling\n",
      "Iteration 70 of (collapsed) Gibbs sampling\n",
      "Iteration 80 of (collapsed) Gibbs sampling\n",
      "Iteration 90 of (collapsed) Gibbs sampling\n",
      "Iteration 100 of (collapsed) Gibbs sampling\n",
      "Iteration 110 of (collapsed) Gibbs sampling\n",
      "Iteration 120 of (collapsed) Gibbs sampling\n",
      "Iteration 130 of (collapsed) Gibbs sampling\n",
      "Iteration 140 of (collapsed) Gibbs sampling\n",
      "Iteration 150 of (collapsed) Gibbs sampling\n",
      "Iteration 160 of (collapsed) Gibbs sampling\n",
      "Iteration 170 of (collapsed) Gibbs sampling\n",
      "Iteration 180 of (collapsed) Gibbs sampling\n",
      "Iteration 190 of (collapsed) Gibbs sampling\n",
      "Iteration 200 of (collapsed) Gibbs sampling\n",
      "Iteration 210 of (collapsed) Gibbs sampling\n",
      "Iteration 220 of (collapsed) Gibbs sampling\n",
      "Iteration 230 of (collapsed) Gibbs sampling\n",
      "Iteration 240 of (collapsed) Gibbs sampling\n",
      "Iteration 250 of (collapsed) Gibbs sampling\n",
      "Iteration 260 of (collapsed) Gibbs sampling\n",
      "Iteration 270 of (collapsed) Gibbs sampling\n",
      "Iteration 280 of (collapsed) Gibbs sampling\n",
      "Iteration 290 of (collapsed) Gibbs sampling\n",
      "Iteration 300 of (collapsed) Gibbs sampling\n",
      "Iteration 310 of (collapsed) Gibbs sampling\n",
      "Iteration 320 of (collapsed) Gibbs sampling\n",
      "Iteration 330 of (collapsed) Gibbs sampling\n",
      "Iteration 340 of (collapsed) Gibbs sampling\n",
      "Iteration 350 of (collapsed) Gibbs sampling\n",
      "Iteration 360 of (collapsed) Gibbs sampling\n",
      "Iteration 370 of (collapsed) Gibbs sampling\n",
      "Iteration 380 of (collapsed) Gibbs sampling\n",
      "Iteration 390 of (collapsed) Gibbs sampling\n",
      "Iteration 400 of (collapsed) Gibbs sampling\n",
      "Iteration 410 of (collapsed) Gibbs sampling\n",
      "Iteration 420 of (collapsed) Gibbs sampling\n",
      "Iteration 430 of (collapsed) Gibbs sampling\n",
      "Iteration 440 of (collapsed) Gibbs sampling\n",
      "Iteration 450 of (collapsed) Gibbs sampling\n",
      "Iteration 460 of (collapsed) Gibbs sampling\n",
      "Iteration 470 of (collapsed) Gibbs sampling\n",
      "Iteration 480 of (collapsed) Gibbs sampling\n",
      "Iteration 490 of (collapsed) Gibbs sampling\n",
      "Iteration 500 of (collapsed) Gibbs sampling\n",
      "Iteration 510 of (collapsed) Gibbs sampling\n",
      "Iteration 520 of (collapsed) Gibbs sampling\n",
      "Iteration 530 of (collapsed) Gibbs sampling\n",
      "Iteration 540 of (collapsed) Gibbs sampling\n",
      "Iteration 550 of (collapsed) Gibbs sampling\n",
      "Iteration 560 of (collapsed) Gibbs sampling\n",
      "Iteration 570 of (collapsed) Gibbs sampling\n",
      "Iteration 580 of (collapsed) Gibbs sampling\n",
      "Iteration 590 of (collapsed) Gibbs sampling\n",
      "Iteration 600 of (collapsed) Gibbs sampling\n",
      "Iteration 610 of (collapsed) Gibbs sampling\n",
      "Iteration 620 of (collapsed) Gibbs sampling\n",
      "Iteration 630 of (collapsed) Gibbs sampling\n",
      "Iteration 640 of (collapsed) Gibbs sampling\n",
      "Iteration 650 of (collapsed) Gibbs sampling\n",
      "Iteration 660 of (collapsed) Gibbs sampling\n",
      "Iteration 670 of (collapsed) Gibbs sampling\n",
      "Iteration 680 of (collapsed) Gibbs sampling\n",
      "Iteration 690 of (collapsed) Gibbs sampling\n",
      "Iteration 700 of (collapsed) Gibbs sampling\n",
      "Iteration 710 of (collapsed) Gibbs sampling\n",
      "Iteration 720 of (collapsed) Gibbs sampling\n",
      "Iteration 730 of (collapsed) Gibbs sampling\n",
      "Iteration 740 of (collapsed) Gibbs sampling\n",
      "Iteration 750 of (collapsed) Gibbs sampling\n",
      "Iteration 760 of (collapsed) Gibbs sampling\n",
      "Iteration 770 of (collapsed) Gibbs sampling\n",
      "Iteration 780 of (collapsed) Gibbs sampling\n",
      "Iteration 790 of (collapsed) Gibbs sampling\n",
      "Iteration 800 of (collapsed) Gibbs sampling\n",
      "Iteration 810 of (collapsed) Gibbs sampling\n",
      "Iteration 820 of (collapsed) Gibbs sampling\n",
      "Iteration 830 of (collapsed) Gibbs sampling\n",
      "Iteration 840 of (collapsed) Gibbs sampling\n",
      "Iteration 850 of (collapsed) Gibbs sampling\n",
      "Iteration 860 of (collapsed) Gibbs sampling\n",
      "Iteration 870 of (collapsed) Gibbs sampling\n",
      "Iteration 880 of (collapsed) Gibbs sampling\n",
      "Iteration 890 of (collapsed) Gibbs sampling\n",
      "Iteration 900 of (collapsed) Gibbs sampling\n",
      "Iteration 910 of (collapsed) Gibbs sampling\n",
      "Iteration 920 of (collapsed) Gibbs sampling\n",
      "Iteration 930 of (collapsed) Gibbs sampling\n",
      "Iteration 940 of (collapsed) Gibbs sampling\n",
      "Iteration 950 of (collapsed) Gibbs sampling\n",
      "Iteration 960 of (collapsed) Gibbs sampling\n",
      "Iteration 970 of (collapsed) Gibbs sampling\n",
      "Iteration 980 of (collapsed) Gibbs sampling\n",
      "Iteration 990 of (collapsed) Gibbs sampling\n",
      "Iteration 1000 of (collapsed) Gibbs sampling\n",
      "Iteration 1010 of (collapsed) Gibbs sampling\n",
      "Iteration 1020 of (collapsed) Gibbs sampling\n",
      "Iteration 1030 of (collapsed) Gibbs sampling\n",
      "Iteration 1040 of (collapsed) Gibbs sampling\n",
      "Iteration 1050 of (collapsed) Gibbs sampling\n",
      "Iteration 1060 of (collapsed) Gibbs sampling\n",
      "Iteration 1070 of (collapsed) Gibbs sampling\n",
      "Iteration 1080 of (collapsed) Gibbs sampling\n",
      "Iteration 1090 of (collapsed) Gibbs sampling\n",
      "Iteration 1100 of (collapsed) Gibbs sampling\n",
      "Iteration 1110 of (collapsed) Gibbs sampling\n",
      "Iteration 1120 of (collapsed) Gibbs sampling\n",
      "Iteration 1130 of (collapsed) Gibbs sampling\n",
      "Iteration 1140 of (collapsed) Gibbs sampling\n",
      "Iteration 1150 of (collapsed) Gibbs sampling\n",
      "Iteration 1160 of (collapsed) Gibbs sampling\n",
      "Iteration 1170 of (collapsed) Gibbs sampling\n",
      "Iteration 1180 of (collapsed) Gibbs sampling\n",
      "Iteration 1190 of (collapsed) Gibbs sampling\n",
      "Iteration 1200 of (collapsed) Gibbs sampling\n",
      "Iteration 1210 of (collapsed) Gibbs sampling\n",
      "Iteration 1220 of (collapsed) Gibbs sampling\n",
      "Iteration 1230 of (collapsed) Gibbs sampling\n",
      "Iteration 1240 of (collapsed) Gibbs sampling\n",
      "Iteration 1250 of (collapsed) Gibbs sampling\n",
      "Iteration 1260 of (collapsed) Gibbs sampling\n",
      "Iteration 1270 of (collapsed) Gibbs sampling\n",
      "Iteration 1280 of (collapsed) Gibbs sampling\n",
      "Iteration 1290 of (collapsed) Gibbs sampling\n",
      "Iteration 1300 of (collapsed) Gibbs sampling\n",
      "Iteration 1310 of (collapsed) Gibbs sampling\n",
      "Iteration 1320 of (collapsed) Gibbs sampling\n",
      "Iteration 1330 of (collapsed) Gibbs sampling\n",
      "Iteration 1340 of (collapsed) Gibbs sampling\n",
      "Iteration 1350 of (collapsed) Gibbs sampling\n",
      "Iteration 1360 of (collapsed) Gibbs sampling\n",
      "Iteration 1370 of (collapsed) Gibbs sampling\n",
      "Iteration 1380 of (collapsed) Gibbs sampling\n",
      "Iteration 1390 of (collapsed) Gibbs sampling\n",
      "Iteration 1400 of (collapsed) Gibbs sampling\n",
      "Iteration 1410 of (collapsed) Gibbs sampling\n",
      "Iteration 1420 of (collapsed) Gibbs sampling\n",
      "Iteration 1430 of (collapsed) Gibbs sampling\n",
      "Iteration 1440 of (collapsed) Gibbs sampling\n",
      "Iteration 1450 of (collapsed) Gibbs sampling\n",
      "Iteration 1460 of (collapsed) Gibbs sampling\n",
      "Iteration 1470 of (collapsed) Gibbs sampling\n",
      "Iteration 1480 of (collapsed) Gibbs sampling\n",
      "Iteration 1490 of (collapsed) Gibbs sampling\n",
      "Iteration 1500 of (collapsed) Gibbs sampling\n",
      "Iteration 1510 of (collapsed) Gibbs sampling\n",
      "Iteration 1520 of (collapsed) Gibbs sampling\n",
      "Iteration 1530 of (collapsed) Gibbs sampling\n",
      "Iteration 1540 of (collapsed) Gibbs sampling\n",
      "Iteration 1550 of (collapsed) Gibbs sampling\n",
      "Iteration 1560 of (collapsed) Gibbs sampling\n",
      "Iteration 1570 of (collapsed) Gibbs sampling\n",
      "Iteration 1580 of (collapsed) Gibbs sampling\n",
      "Iteration 1590 of (collapsed) Gibbs sampling\n",
      "Iteration 1600 of (collapsed) Gibbs sampling\n",
      "Iteration 1610 of (collapsed) Gibbs sampling\n",
      "Iteration 1620 of (collapsed) Gibbs sampling\n",
      "Iteration 1630 of (collapsed) Gibbs sampling\n",
      "Iteration 1640 of (collapsed) Gibbs sampling\n",
      "Iteration 1650 of (collapsed) Gibbs sampling\n",
      "Iteration 1660 of (collapsed) Gibbs sampling\n",
      "Iteration 1670 of (collapsed) Gibbs sampling\n",
      "Iteration 1680 of (collapsed) Gibbs sampling\n",
      "Iteration 1690 of (collapsed) Gibbs sampling\n",
      "Iteration 1700 of (collapsed) Gibbs sampling\n",
      "Iteration 1710 of (collapsed) Gibbs sampling\n",
      "Iteration 1720 of (collapsed) Gibbs sampling\n",
      "Iteration 1730 of (collapsed) Gibbs sampling\n",
      "Iteration 1740 of (collapsed) Gibbs sampling\n",
      "Iteration 1750 of (collapsed) Gibbs sampling\n",
      "Iteration 1760 of (collapsed) Gibbs sampling\n",
      "Iteration 1770 of (collapsed) Gibbs sampling\n",
      "Iteration 1780 of (collapsed) Gibbs sampling\n",
      "Iteration 1790 of (collapsed) Gibbs sampling\n",
      "Iteration 1800 of (collapsed) Gibbs sampling\n",
      "Iteration 1810 of (collapsed) Gibbs sampling\n",
      "Iteration 1820 of (collapsed) Gibbs sampling\n",
      "Iteration 1830 of (collapsed) Gibbs sampling\n",
      "Iteration 1840 of (collapsed) Gibbs sampling\n",
      "Iteration 1850 of (collapsed) Gibbs sampling\n"
     ]
    },
    {
     "name": "stdout",
     "output_type": "stream",
     "text": [
      "Iteration 1860 of (collapsed) Gibbs sampling\n",
      "Iteration 1870 of (collapsed) Gibbs sampling\n",
      "Iteration 1880 of (collapsed) Gibbs sampling\n",
      "Iteration 1890 of (collapsed) Gibbs sampling\n",
      "Iteration 1900 of (collapsed) Gibbs sampling\n",
      "Iteration 1910 of (collapsed) Gibbs sampling\n",
      "Iteration 1920 of (collapsed) Gibbs sampling\n",
      "Iteration 1930 of (collapsed) Gibbs sampling\n",
      "Iteration 1940 of (collapsed) Gibbs sampling\n",
      "Iteration 1950 of (collapsed) Gibbs sampling\n",
      "Iteration 1960 of (collapsed) Gibbs sampling\n",
      "Iteration 1970 of (collapsed) Gibbs sampling\n",
      "Iteration 1980 of (collapsed) Gibbs sampling\n",
      "Iteration 1990 of (collapsed) Gibbs sampling\n",
      "Iteration 2000 of (collapsed) Gibbs sampling\n",
      "Iteration 2010 of (collapsed) Gibbs sampling\n",
      "Iteration 2020 of (collapsed) Gibbs sampling\n",
      "Iteration 2030 of (collapsed) Gibbs sampling\n",
      "Iteration 2040 of (collapsed) Gibbs sampling\n",
      "Iteration 2050 of (collapsed) Gibbs sampling\n",
      "Iteration 2060 of (collapsed) Gibbs sampling\n",
      "Iteration 2070 of (collapsed) Gibbs sampling\n",
      "Iteration 2080 of (collapsed) Gibbs sampling\n",
      "Iteration 2090 of (collapsed) Gibbs sampling\n",
      "Iteration 2100 of (collapsed) Gibbs sampling\n",
      "Iteration 2110 of (collapsed) Gibbs sampling\n",
      "Iteration 2120 of (collapsed) Gibbs sampling\n",
      "Iteration 2130 of (collapsed) Gibbs sampling\n",
      "Iteration 2140 of (collapsed) Gibbs sampling\n",
      "Iteration 2150 of (collapsed) Gibbs sampling\n",
      "Iteration 2160 of (collapsed) Gibbs sampling\n",
      "Iteration 2170 of (collapsed) Gibbs sampling\n",
      "Iteration 2180 of (collapsed) Gibbs sampling\n",
      "Iteration 2190 of (collapsed) Gibbs sampling\n",
      "Iteration 2200 of (collapsed) Gibbs sampling\n",
      "Iteration 2210 of (collapsed) Gibbs sampling\n",
      "Iteration 2220 of (collapsed) Gibbs sampling\n",
      "Iteration 2230 of (collapsed) Gibbs sampling\n",
      "Iteration 2240 of (collapsed) Gibbs sampling\n",
      "Iteration 2250 of (collapsed) Gibbs sampling\n",
      "Iteration 2260 of (collapsed) Gibbs sampling\n",
      "Iteration 2270 of (collapsed) Gibbs sampling\n",
      "Iteration 2280 of (collapsed) Gibbs sampling\n",
      "Iteration 2290 of (collapsed) Gibbs sampling\n",
      "Iteration 2300 of (collapsed) Gibbs sampling\n",
      "Iteration 2310 of (collapsed) Gibbs sampling\n",
      "Iteration 2320 of (collapsed) Gibbs sampling\n",
      "Iteration 2330 of (collapsed) Gibbs sampling\n",
      "Iteration 2340 of (collapsed) Gibbs sampling\n",
      "Iteration 2350 of (collapsed) Gibbs sampling\n",
      "Iteration 2360 of (collapsed) Gibbs sampling\n",
      "Iteration 2370 of (collapsed) Gibbs sampling\n",
      "Iteration 2380 of (collapsed) Gibbs sampling\n",
      "Iteration 2390 of (collapsed) Gibbs sampling\n",
      "Iteration 2400 of (collapsed) Gibbs sampling\n",
      "Iteration 2410 of (collapsed) Gibbs sampling\n",
      "Iteration 2420 of (collapsed) Gibbs sampling\n",
      "Iteration 2430 of (collapsed) Gibbs sampling\n",
      "Iteration 2440 of (collapsed) Gibbs sampling\n",
      "Iteration 2450 of (collapsed) Gibbs sampling\n",
      "Iteration 2460 of (collapsed) Gibbs sampling\n",
      "Iteration 2470 of (collapsed) Gibbs sampling\n",
      "Iteration 2480 of (collapsed) Gibbs sampling\n",
      "Iteration 2490 of (collapsed) Gibbs sampling\n",
      "Iteration 2500 of (collapsed) Gibbs sampling\n",
      "Iteration 2510 of (collapsed) Gibbs sampling\n",
      "Iteration 2520 of (collapsed) Gibbs sampling\n",
      "Iteration 2530 of (collapsed) Gibbs sampling\n",
      "Iteration 2540 of (collapsed) Gibbs sampling\n",
      "Iteration 2550 of (collapsed) Gibbs sampling\n",
      "Iteration 2560 of (collapsed) Gibbs sampling\n",
      "Iteration 2570 of (collapsed) Gibbs sampling\n",
      "Iteration 2580 of (collapsed) Gibbs sampling\n",
      "Iteration 2590 of (collapsed) Gibbs sampling\n",
      "Iteration 2600 of (collapsed) Gibbs sampling\n",
      "Iteration 2610 of (collapsed) Gibbs sampling\n",
      "Iteration 2620 of (collapsed) Gibbs sampling\n",
      "Iteration 2630 of (collapsed) Gibbs sampling\n",
      "Iteration 2640 of (collapsed) Gibbs sampling\n",
      "Iteration 2650 of (collapsed) Gibbs sampling\n",
      "Iteration 2660 of (collapsed) Gibbs sampling\n",
      "Iteration 2670 of (collapsed) Gibbs sampling\n",
      "Iteration 2680 of (collapsed) Gibbs sampling\n",
      "Iteration 2690 of (collapsed) Gibbs sampling\n",
      "Iteration 2700 of (collapsed) Gibbs sampling\n",
      "Iteration 2710 of (collapsed) Gibbs sampling\n",
      "Iteration 2720 of (collapsed) Gibbs sampling\n",
      "Iteration 2730 of (collapsed) Gibbs sampling\n",
      "Iteration 2740 of (collapsed) Gibbs sampling\n",
      "Iteration 2750 of (collapsed) Gibbs sampling\n",
      "Iteration 2760 of (collapsed) Gibbs sampling\n",
      "Iteration 2770 of (collapsed) Gibbs sampling\n",
      "Iteration 2780 of (collapsed) Gibbs sampling\n",
      "Iteration 2790 of (collapsed) Gibbs sampling\n",
      "Iteration 2800 of (collapsed) Gibbs sampling\n",
      "Iteration 2810 of (collapsed) Gibbs sampling\n",
      "Iteration 2820 of (collapsed) Gibbs sampling\n",
      "Iteration 2830 of (collapsed) Gibbs sampling\n",
      "Iteration 2840 of (collapsed) Gibbs sampling\n",
      "Iteration 2850 of (collapsed) Gibbs sampling\n",
      "Iteration 2860 of (collapsed) Gibbs sampling\n",
      "Iteration 2870 of (collapsed) Gibbs sampling\n",
      "Iteration 2880 of (collapsed) Gibbs sampling\n",
      "Iteration 2890 of (collapsed) Gibbs sampling\n",
      "Iteration 2900 of (collapsed) Gibbs sampling\n",
      "Iteration 2910 of (collapsed) Gibbs sampling\n",
      "Iteration 2920 of (collapsed) Gibbs sampling\n",
      "Iteration 2930 of (collapsed) Gibbs sampling\n",
      "Iteration 2940 of (collapsed) Gibbs sampling\n",
      "Iteration 2950 of (collapsed) Gibbs sampling\n",
      "Iteration 2960 of (collapsed) Gibbs sampling\n",
      "Iteration 2970 of (collapsed) Gibbs sampling\n",
      "Iteration 2980 of (collapsed) Gibbs sampling\n",
      "Iteration 2990 of (collapsed) Gibbs sampling\n",
      "Iteration 3000 of (collapsed) Gibbs sampling\n"
     ]
    }
   ],
   "source": [
    "ldaobj.sample(2000, 50, 20)"
   ]
  },
  {
   "cell_type": "markdown",
   "metadata": {},
   "source": [
    "One simple convergence criterion is whether the perplexity computed at each draw of the Markov chain is stable, which we can compute and verify."
   ]
  },
  {
   "cell_type": "code",
   "execution_count": 5,
   "metadata": {},
   "outputs": [
    {
     "data": {
      "text/plain": [
       "array([435.47314257, 435.5966975 , 435.68398388, 435.40008065,\n",
       "       435.40899925, 435.53247625, 435.72287498, 435.50826588,\n",
       "       435.28085581, 435.40925086, 435.61699448, 435.4973021 ,\n",
       "       435.51415415, 435.5234896 , 435.47166945, 435.09234773,\n",
       "       435.27532876, 435.39617475, 435.4746255 , 435.49317599])"
      ]
     },
     "execution_count": 5,
     "metadata": {},
     "output_type": "execute_result"
    }
   ],
   "source": [
    "ldaobj.perplexity()"
   ]
  },
  {
   "cell_type": "markdown",
   "metadata": {},
   "source": [
    "The two key outputs of interest are the posterior distributions for the $\\boldsymbol\\beta$ topic-term probability vectors and for the $\\boldsymbol\\theta$ document-topic shares.  We can compute these for each draw of the Markov chain, which are stored in the objects below."
   ]
  },
  {
   "cell_type": "code",
   "execution_count": 6,
   "metadata": {},
   "outputs": [
    {
     "name": "stdout",
     "output_type": "stream",
     "text": [
      "(5521, 30, 20)\n",
      "(7277, 30, 20)\n"
     ]
    }
   ],
   "source": [
    "print(ldaobj.tt.shape)\n",
    "print(ldaobj.dt.shape)"
   ]
  },
  {
   "cell_type": "markdown",
   "metadata": {},
   "source": [
    "We can first explore the terms that make up each topic via the call below, which outputs a file with terms in each topic ranked by their average probability across the samples...the user can explore the contents offline."
   ]
  },
  {
   "cell_type": "code",
   "execution_count": 7,
   "metadata": {},
   "outputs": [],
   "source": [
    "ldaobj.topic_content(20, output_file=\"topic_description.csv\")"
   ]
  },
  {
   "cell_type": "markdown",
   "metadata": {},
   "source": [
    "For the estimation of LDA, we used individual paragraphs as documents, but most analysis we would naturally be more interested in the distribution of topics at the level of the entire minutes.  To obtain these, we re-estimate topic shares for aggregated documents, holding fixed the estimated $\\boldsymbol\\beta$ vectors from the LDA estimation above.  The code below outputs a file with the relevant output."
   ]
  },
  {
   "cell_type": "code",
   "execution_count": 8,
   "metadata": {},
   "outputs": [
    {
     "name": "stdout",
     "output_type": "stream",
     "text": [
      "Sample 0 queried\n",
      "Sample 1 queried\n",
      "Sample 2 queried\n",
      "Sample 3 queried\n",
      "Sample 4 queried\n",
      "Sample 5 queried\n",
      "Sample 6 queried\n",
      "Sample 7 queried\n",
      "Sample 8 queried\n",
      "Sample 9 queried\n",
      "Sample 10 queried\n",
      "Sample 11 queried\n",
      "Sample 12 queried\n",
      "Sample 13 queried\n",
      "Sample 14 queried\n",
      "Sample 15 queried\n",
      "Sample 16 queried\n",
      "Sample 17 queried\n",
      "Sample 18 queried\n",
      "Sample 19 queried\n"
     ]
    }
   ],
   "source": [
    "data['temp'] = [' '.join(s) for s in docsobj.stems]\n",
    "aggspeeches = data.groupby(['year'])['temp'].apply(lambda x: ' '.join(x))\n",
    "aggdocs = topicmodels.RawDocs(aggspeeches)\n",
    "\n",
    "queryobj = topicmodels.LDA.QueryGibbs(aggdocs.tokens,\n",
    "                                      ldaobj.token_key,\n",
    "                                      ldaobj.tt)\n",
    "queryobj.query(10)\n",
    "\n",
    "dt_query = queryobj.dt_avg()\n",
    "aggdata = pd.DataFrame(dt_query, index=aggspeeches.index,\n",
    "                       columns=['T' + str(i) for i in range(queryobj.K)])\n",
    "aggdata.to_csv(\"final_output_agg.csv\")"
   ]
  },
  {
   "cell_type": "markdown",
   "metadata": {},
   "source": [
    "Try to verify whether you can identify a topic about \"financial markets\" and explore its time series variation.  Does this resemble the figures in the speech linked to above?"
   ]
  }
 ],
 "metadata": {
  "kernelspec": {
   "display_name": "Python 3",
   "language": "python",
   "name": "python3"
  },
  "language_info": {
   "codemirror_mode": {
    "name": "ipython",
    "version": 3
   },
   "file_extension": ".py",
   "mimetype": "text/x-python",
   "name": "python",
   "nbconvert_exporter": "python",
   "pygments_lexer": "ipython3",
   "version": "3.7.1"
  }
 },
 "nbformat": 4,
 "nbformat_minor": 2
}
